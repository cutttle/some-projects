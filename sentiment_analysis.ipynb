{
 "metadata": {
  "kernelspec": {
   "name": "python3",
   "display_name": "Python 3",
   "language": "python"
  },
  "language_info": {
   "name": "python",
   "version": "3.7.12",
   "mimetype": "text/x-python",
   "codemirror_mode": {
    "name": "ipython",
    "version": 3
   },
   "pygments_lexer": "ipython3",
   "nbconvert_exporter": "python",
   "file_extension": ".py"
  },
  "toc": {
   "base_numbering": 1,
   "nav_menu": {},
   "number_sections": true,
   "sideBar": true,
   "skip_h1_title": true,
   "title_cell": "Table of Contents",
   "title_sidebar": "Contents",
   "toc_cell": true,
   "toc_position": {},
   "toc_section_display": true,
   "toc_window_display": false
  }
 },
 "nbformat_minor": 4,
 "nbformat": 4,
 "cells": [
  {
   "cell_type": "markdown",
   "source": [
    "<h1>Table of Contents<span class=\"tocSkip\"></span></h1>\n",
    "<div class=\"toc\"><ul class=\"toc-item\"><li><span><a href=\"#Оценка-на-тесте\" data-toc-modified-id=\"Оценка-на-тесте-1\"><span class=\"toc-item-num\">1&nbsp;&nbsp;</span>Оценка на тесте</a></span></li></ul></div>"
   ],
   "metadata": {
    "toc": true
   }
  },
  {
   "cell_type": "markdown",
   "source": [
    "# Определение эмоциональной окраски отзывов на IMDb с помощью BERT"
   ],
   "metadata": {}
  },
  {
   "cell_type": "code",
   "source": [
    "pip install pytorch-transformers"
   ],
   "metadata": {
    "execution": {
     "iopub.status.busy": "2023-02-08T10:13:51.889244Z",
     "iopub.execute_input": "2023-02-08T10:13:51.890482Z",
     "iopub.status.idle": "2023-02-08T10:14:03.130262Z",
     "shell.execute_reply.started": "2023-02-08T10:13:51.890355Z",
     "shell.execute_reply": "2023-02-08T10:14:03.128963Z"
    },
    "trusted": true
   },
   "execution_count": 1,
   "outputs": [
    {
     "name": "stdout",
     "text": "Collecting pytorch-transformers\n  Downloading pytorch_transformers-1.2.0-py3-none-any.whl (176 kB)\n\u001B[2K     \u001B[90m━━━━━━━━━━━━━━━━━━━━━━━━━━━━━━━━━━━━━━━\u001B[0m \u001B[32m176.4/176.4 kB\u001B[0m \u001B[31m1.2 MB/s\u001B[0m eta \u001B[36m0:00:00\u001B[0ma \u001B[36m0:00:01\u001B[0m\n\u001B[?25hRequirement already satisfied: boto3 in /opt/conda/lib/python3.7/site-packages (from pytorch-transformers) (1.26.60)\nRequirement already satisfied: numpy in /opt/conda/lib/python3.7/site-packages (from pytorch-transformers) (1.21.6)\nRequirement already satisfied: sentencepiece in /opt/conda/lib/python3.7/site-packages (from pytorch-transformers) (0.1.97)\nRequirement already satisfied: torch>=1.0.0 in /opt/conda/lib/python3.7/site-packages (from pytorch-transformers) (1.11.0)\nRequirement already satisfied: requests in /opt/conda/lib/python3.7/site-packages (from pytorch-transformers) (2.28.1)\nRequirement already satisfied: regex in /opt/conda/lib/python3.7/site-packages (from pytorch-transformers) (2021.11.10)\nRequirement already satisfied: tqdm in /opt/conda/lib/python3.7/site-packages (from pytorch-transformers) (4.64.0)\nRequirement already satisfied: sacremoses in /opt/conda/lib/python3.7/site-packages (from pytorch-transformers) (0.0.53)\nRequirement already satisfied: typing-extensions in /opt/conda/lib/python3.7/site-packages (from torch>=1.0.0->pytorch-transformers) (4.1.1)\nRequirement already satisfied: s3transfer<0.7.0,>=0.6.0 in /opt/conda/lib/python3.7/site-packages (from boto3->pytorch-transformers) (0.6.0)\nRequirement already satisfied: botocore<1.30.0,>=1.29.60 in /opt/conda/lib/python3.7/site-packages (from boto3->pytorch-transformers) (1.29.60)\nRequirement already satisfied: jmespath<2.0.0,>=0.7.1 in /opt/conda/lib/python3.7/site-packages (from boto3->pytorch-transformers) (1.0.1)\nRequirement already satisfied: certifi>=2017.4.17 in /opt/conda/lib/python3.7/site-packages (from requests->pytorch-transformers) (2022.12.7)\nRequirement already satisfied: urllib3<1.27,>=1.21.1 in /opt/conda/lib/python3.7/site-packages (from requests->pytorch-transformers) (1.26.14)\nRequirement already satisfied: idna<4,>=2.5 in /opt/conda/lib/python3.7/site-packages (from requests->pytorch-transformers) (3.3)\nRequirement already satisfied: charset-normalizer<3,>=2 in /opt/conda/lib/python3.7/site-packages (from requests->pytorch-transformers) (2.1.0)\nRequirement already satisfied: click in /opt/conda/lib/python3.7/site-packages (from sacremoses->pytorch-transformers) (8.1.3)\nRequirement already satisfied: six in /opt/conda/lib/python3.7/site-packages (from sacremoses->pytorch-transformers) (1.15.0)\nRequirement already satisfied: joblib in /opt/conda/lib/python3.7/site-packages (from sacremoses->pytorch-transformers) (1.0.1)\nRequirement already satisfied: python-dateutil<3.0.0,>=2.1 in /opt/conda/lib/python3.7/site-packages (from botocore<1.30.0,>=1.29.60->boto3->pytorch-transformers) (2.8.2)\nRequirement already satisfied: importlib-metadata in /opt/conda/lib/python3.7/site-packages (from click->sacremoses->pytorch-transformers) (6.0.0)\nRequirement already satisfied: zipp>=0.5 in /opt/conda/lib/python3.7/site-packages (from importlib-metadata->click->sacremoses->pytorch-transformers) (3.8.0)\nInstalling collected packages: pytorch-transformers\nSuccessfully installed pytorch-transformers-1.2.0\n\u001B[33mWARNING: Running pip as the 'root' user can result in broken permissions and conflicting behaviour with the system package manager. It is recommended to use a virtual environment instead: https://pip.pypa.io/warnings/venv\u001B[0m\u001B[33m\n\u001B[0mNote: you may need to restart the kernel to use updated packages.\n",
     "output_type": "stream"
    }
   ]
  },
  {
   "cell_type": "markdown",
   "source": [
    "## Подготовка данных"
   ],
   "metadata": {}
  },
  {
   "cell_type": "markdown",
   "source": [
    "Установка необходимых библиотек:"
   ],
   "metadata": {}
  },
  {
   "cell_type": "code",
   "source": [
    "import io\n",
    "import pandas as pd\n",
    "import numpy as np\n",
    "import matplotlib.pyplot as plt\n",
    "from tqdm import tqdm, trange\n",
    "\n",
    "from sklearn.model_selection import train_test_split\n",
    "from sklearn.metrics import accuracy_score\n",
    "from keras.preprocessing.sequence import pad_sequences\n",
    "\n",
    "import torch\n",
    "from torch.utils.data import TensorDataset, DataLoader, RandomSampler, SequentialSampler\n",
    "from pytorch_transformers import BertTokenizer, BertConfig\n",
    "from pytorch_transformers import AdamW, BertForSequenceClassification\n",
    "\n",
    "import warnings\n",
    "warnings.filterwarnings(\"ignore\")"
   ],
   "metadata": {
    "execution": {
     "iopub.status.busy": "2023-02-08T10:14:03.132555Z",
     "iopub.execute_input": "2023-02-08T10:14:03.132852Z",
     "iopub.status.idle": "2023-02-08T10:14:10.236400Z",
     "shell.execute_reply.started": "2023-02-08T10:14:03.132822Z",
     "shell.execute_reply": "2023-02-08T10:14:10.235492Z"
    },
    "trusted": true
   },
   "execution_count": 2,
   "outputs": []
  },
  {
   "cell_type": "code",
   "source": [
    "device = torch.device(\"cuda\" if torch.cuda.is_available() else \"cpu\")\n",
    "device"
   ],
   "metadata": {
    "scrolled": true,
    "execution": {
     "iopub.status.busy": "2023-02-08T10:14:10.237983Z",
     "iopub.execute_input": "2023-02-08T10:14:10.238630Z",
     "iopub.status.idle": "2023-02-08T10:14:10.314474Z",
     "shell.execute_reply.started": "2023-02-08T10:14:10.238591Z",
     "shell.execute_reply": "2023-02-08T10:14:10.313403Z"
    },
    "trusted": true
   },
   "execution_count": 3,
   "outputs": [
    {
     "execution_count": 3,
     "output_type": "execute_result",
     "data": {
      "text/plain": "device(type='cuda')"
     },
     "metadata": {}
    }
   ]
  },
  {
   "cell_type": "markdown",
   "source": [
    "Данные представляют собой 50 тысяч отзывов на фильмы с IMBD, половина из которых положительные."
   ],
   "metadata": {}
  },
  {
   "cell_type": "code",
   "source": [
    "dataset = pd.read_csv('/kaggle/input/imdb-dataset-of-50k-movie-reviews/IMDB Dataset.csv')\n",
    "dataset.sample(10)"
   ],
   "metadata": {
    "execution": {
     "iopub.status.busy": "2023-02-08T10:14:10.317525Z",
     "iopub.execute_input": "2023-02-08T10:14:10.318058Z",
     "iopub.status.idle": "2023-02-08T10:14:11.809850Z",
     "shell.execute_reply.started": "2023-02-08T10:14:10.318021Z",
     "shell.execute_reply": "2023-02-08T10:14:11.808279Z"
    },
    "trusted": true
   },
   "execution_count": 4,
   "outputs": [
    {
     "execution_count": 4,
     "output_type": "execute_result",
     "data": {
      "text/plain": "                                                  review sentiment\n29977  I always hated this retarded show .I liked the...  negative\n10023  I've also been looking to find this movie for ...  positive\n11015  This adaption contains two parts: <br /><br />...  negative\n25910  One of the flat-out drollest movies of all-tim...  positive\n40227  Fabulous costumes by Edith Head who painted th...  positive\n29330  OK, people, honestly... this gotta be one of t...  negative\n28341  Empty shortening of John Irving's novel strive...  negative\n39790  Time has not been kind to this movie. Once con...  positive\n13411  The theme is controversial and the depiction o...  positive\n24068  If you are having trouble sleeping or just wan...  negative",
      "text/html": "<div>\n<style scoped>\n    .dataframe tbody tr th:only-of-type {\n        vertical-align: middle;\n    }\n\n    .dataframe tbody tr th {\n        vertical-align: top;\n    }\n\n    .dataframe thead th {\n        text-align: right;\n    }\n</style>\n<table border=\"1\" class=\"dataframe\">\n  <thead>\n    <tr style=\"text-align: right;\">\n      <th></th>\n      <th>review</th>\n      <th>sentiment</th>\n    </tr>\n  </thead>\n  <tbody>\n    <tr>\n      <th>29977</th>\n      <td>I always hated this retarded show .I liked the...</td>\n      <td>negative</td>\n    </tr>\n    <tr>\n      <th>10023</th>\n      <td>I've also been looking to find this movie for ...</td>\n      <td>positive</td>\n    </tr>\n    <tr>\n      <th>11015</th>\n      <td>This adaption contains two parts: &lt;br /&gt;&lt;br /&gt;...</td>\n      <td>negative</td>\n    </tr>\n    <tr>\n      <th>25910</th>\n      <td>One of the flat-out drollest movies of all-tim...</td>\n      <td>positive</td>\n    </tr>\n    <tr>\n      <th>40227</th>\n      <td>Fabulous costumes by Edith Head who painted th...</td>\n      <td>positive</td>\n    </tr>\n    <tr>\n      <th>29330</th>\n      <td>OK, people, honestly... this gotta be one of t...</td>\n      <td>negative</td>\n    </tr>\n    <tr>\n      <th>28341</th>\n      <td>Empty shortening of John Irving's novel strive...</td>\n      <td>negative</td>\n    </tr>\n    <tr>\n      <th>39790</th>\n      <td>Time has not been kind to this movie. Once con...</td>\n      <td>positive</td>\n    </tr>\n    <tr>\n      <th>13411</th>\n      <td>The theme is controversial and the depiction o...</td>\n      <td>positive</td>\n    </tr>\n    <tr>\n      <th>24068</th>\n      <td>If you are having trouble sleeping or just wan...</td>\n      <td>negative</td>\n    </tr>\n  </tbody>\n</table>\n</div>"
     },
     "metadata": {}
    }
   ]
  },
  {
   "cell_type": "markdown",
   "source": [
    "Выделим текстовую часть данных, каждый отзыв дополним специальными токенами:"
   ],
   "metadata": {}
  },
  {
   "cell_type": "code",
   "source": [
    "sentences = dataset['review'].values\n",
    "sentences = [\"[CLS] \" + sentence + \" [SEP]\" for sentence in sentences]"
   ],
   "metadata": {
    "execution": {
     "iopub.status.busy": "2023-02-08T10:14:11.811355Z",
     "iopub.execute_input": "2023-02-08T10:14:11.811741Z",
     "iopub.status.idle": "2023-02-08T10:14:11.881570Z",
     "shell.execute_reply.started": "2023-02-08T10:14:11.811703Z",
     "shell.execute_reply": "2023-02-08T10:14:11.880526Z"
    },
    "trusted": true
   },
   "execution_count": 5,
   "outputs": []
  },
  {
   "cell_type": "markdown",
   "source": [
    "Выделим и закодируем метки для отзывов:"
   ],
   "metadata": {}
  },
  {
   "cell_type": "code",
   "source": [
    "labels = dataset['sentiment'].values\n",
    "labels = [[1] if x == 'positive' else [0] for x in dataset['sentiment'].values]"
   ],
   "metadata": {
    "execution": {
     "iopub.status.busy": "2023-02-08T10:14:11.883139Z",
     "iopub.execute_input": "2023-02-08T10:14:11.883524Z",
     "iopub.status.idle": "2023-02-08T10:14:11.909272Z",
     "shell.execute_reply.started": "2023-02-08T10:14:11.883486Z",
     "shell.execute_reply": "2023-02-08T10:14:11.908274Z"
    },
    "trusted": true
   },
   "execution_count": 6,
   "outputs": []
  },
  {
   "cell_type": "markdown",
   "source": [
    "Разделим данные на обучающие и тестовые:"
   ],
   "metadata": {
    "execution": {
     "iopub.execute_input": "2023-02-05T15:50:14.678846Z",
     "iopub.status.busy": "2023-02-05T15:50:14.678523Z",
     "iopub.status.idle": "2023-02-05T15:50:14.699988Z",
     "shell.execute_reply": "2023-02-05T15:50:14.699061Z",
     "shell.execute_reply.started": "2023-02-05T15:50:14.678816Z"
    }
   }
  },
  {
   "cell_type": "code",
   "source": [
    "train_sentences, test_sentences, train_gt, test_gt = train_test_split(sentences, labels, test_size=0.3)\n",
    "len(train_gt), len(test_gt)"
   ],
   "metadata": {
    "execution": {
     "iopub.status.busy": "2023-02-08T10:14:11.910698Z",
     "iopub.execute_input": "2023-02-08T10:14:11.911184Z",
     "iopub.status.idle": "2023-02-08T10:14:11.936442Z",
     "shell.execute_reply.started": "2023-02-08T10:14:11.911146Z",
     "shell.execute_reply": "2023-02-08T10:14:11.935317Z"
    },
    "trusted": true
   },
   "execution_count": 7,
   "outputs": [
    {
     "execution_count": 7,
     "output_type": "execute_result",
     "data": {
      "text/plain": "(35000, 15000)"
     },
     "metadata": {}
    }
   ]
  },
  {
   "cell_type": "markdown",
   "source": [
    "Токенизируем текст с помощью BertTokenizer:"
   ],
   "metadata": {
    "execution": {
     "iopub.execute_input": "2023-02-05T15:50:16.263552Z",
     "iopub.status.busy": "2023-02-05T15:50:16.262768Z",
     "iopub.status.idle": "2023-02-05T15:50:16.270423Z",
     "shell.execute_reply": "2023-02-05T15:50:16.269322Z",
     "shell.execute_reply.started": "2023-02-05T15:50:16.263521Z"
    }
   }
  },
  {
   "cell_type": "code",
   "source": [
    "tokenizer = BertTokenizer.from_pretrained('bert-base-uncased', do_lower_case=True)\n",
    "tokenized_texts = [tokenizer.tokenize(sent) for sent in train_sentences]\n",
    "print(tokenized_texts[0])"
   ],
   "metadata": {
    "execution": {
     "iopub.status.busy": "2023-02-08T10:14:11.937659Z",
     "iopub.execute_input": "2023-02-08T10:14:11.938087Z",
     "iopub.status.idle": "2023-02-08T10:16:57.584936Z",
     "shell.execute_reply.started": "2023-02-08T10:14:11.938053Z",
     "shell.execute_reply": "2023-02-08T10:16:57.583613Z"
    },
    "trusted": true
   },
   "execution_count": 8,
   "outputs": [
    {
     "name": "stderr",
     "text": "100%|██████████| 231508/231508 [00:00<00:00, 1247364.88B/s]\n",
     "output_type": "stream"
    },
    {
     "name": "stdout",
     "text": "['[CLS]', 'this', 'film', 'is', 'roughly', 'what', 'it', 'sounds', 'like', ':', 'a', 'futuristic', 'version', 'of', 'the', 'cinderella', 'legend', 'but', 'with', 'songs', 'and', '(', 'fairly', 'tame', ')', 'sex', 'scenes', '!', 'the', 'film', 'is', 'not', 'sure', 'what', 'it', 'wants', 'to', 'be', 'and', 'pretty', 'much', 'ends', 'up', 'a', 'mess', '.', 'it', \"'\", 's', 'more', 'expensive', 'looking', 'than', 'most', 'of', 'director', 'al', 'adams', '##on', \"'\", 's', 'films', 'but', 'it', \"'\", 's', 'not', 'at', 'the', 'same', 'budget', 'level', 'that', 'viewers', 'have', 'come', 'to', 'expect', 'from', 'sci', '-', 'fi', 'films', '.', 'the', 'actors', 'are', 'pretty', 'bad', 'and', 'unlike', 'most', 'adams', '##on', 'films', ',', 'there', 'are', 'no', 'former', 'big', 'name', '##rs', 'or', 'b', 'actors', '.', 'some', 'of', 'the', 'music', 'is', 'ok', 'but', 'it', \"'\", 's', 'easy', 'to', 'see', 'why', 'cinderella', '2000', 'has', 'been', 'forgotten', 'for', 'so', 'many', 'years', '.', '[SEP]']\n",
     "output_type": "stream"
    }
   ]
  },
  {
   "cell_type": "markdown",
   "source": [
    "Векторизуем токенизированный текст, приведем предложения к одной длине с помощью обрезания и паддинга, создадим attention mask:"
   ],
   "metadata": {}
  },
  {
   "cell_type": "code",
   "source": [
    "input_ids = [tokenizer.convert_tokens_to_ids(x) for x in tokenized_texts]\n",
    "input_ids = pad_sequences(\n",
    "    input_ids,\n",
    "    maxlen=150,\n",
    "    truncating=\"post\",\n",
    "    padding=\"post\"\n",
    ")\n",
    "\n",
    "attention_masks = [[float(i>0) for i in seq] for seq in input_ids]"
   ],
   "metadata": {
    "execution": {
     "iopub.status.busy": "2023-02-08T10:16:57.586473Z",
     "iopub.execute_input": "2023-02-08T10:16:57.586934Z",
     "iopub.status.idle": "2023-02-08T10:17:16.326267Z",
     "shell.execute_reply.started": "2023-02-08T10:16:57.586895Z",
     "shell.execute_reply": "2023-02-08T10:17:16.325227Z"
    },
    "trusted": true
   },
   "execution_count": 9,
   "outputs": []
  },
  {
   "cell_type": "markdown",
   "source": [
    "Разделим данные на тренировочные и валидационные:"
   ],
   "metadata": {}
  },
  {
   "cell_type": "code",
   "source": [
    "train_inputs, validation_inputs, train_labels, validation_labels = train_test_split(\n",
    "    input_ids, train_gt, \n",
    "    random_state=42,\n",
    "    test_size=0.1\n",
    ")\n",
    "\n",
    "train_masks, validation_masks, _, _ = train_test_split(\n",
    "    attention_masks,\n",
    "    input_ids,\n",
    "    random_state=42,\n",
    "    test_size=0.1\n",
    ")"
   ],
   "metadata": {
    "execution": {
     "iopub.status.busy": "2023-02-08T10:17:16.331562Z",
     "iopub.execute_input": "2023-02-08T10:17:16.331923Z",
     "iopub.status.idle": "2023-02-08T10:17:16.367005Z",
     "shell.execute_reply.started": "2023-02-08T10:17:16.331885Z",
     "shell.execute_reply": "2023-02-08T10:17:16.366054Z"
    },
    "trusted": true
   },
   "execution_count": 10,
   "outputs": []
  },
  {
   "cell_type": "code",
   "source": [
    "train_inputs = torch.tensor(train_inputs)\n",
    "train_labels = torch.tensor(train_labels)\n",
    "train_masks = torch.tensor(train_masks)\n",
    "\n",
    "validation_inputs = torch.tensor(validation_inputs)\n",
    "validation_labels = torch.tensor(validation_labels)\n",
    "validation_masks = torch.tensor(validation_masks)"
   ],
   "metadata": {
    "execution": {
     "iopub.status.busy": "2023-02-08T10:17:16.368357Z",
     "iopub.execute_input": "2023-02-08T10:17:16.368985Z",
     "iopub.status.idle": "2023-02-08T10:17:16.805652Z",
     "shell.execute_reply.started": "2023-02-08T10:17:16.368946Z",
     "shell.execute_reply": "2023-02-08T10:17:16.804504Z"
    },
    "trusted": true
   },
   "execution_count": 11,
   "outputs": []
  },
  {
   "cell_type": "markdown",
   "source": [
    "Используем DataLoader для побатчевой обработки данных:"
   ],
   "metadata": {
    "execution": {
     "iopub.execute_input": "2023-02-05T15:53:15.657912Z",
     "iopub.status.busy": "2023-02-05T15:53:15.657476Z",
     "iopub.status.idle": "2023-02-05T15:53:15.683251Z",
     "shell.execute_reply": "2023-02-05T15:53:15.682208Z",
     "shell.execute_reply.started": "2023-02-05T15:53:15.657855Z"
    }
   }
  },
  {
   "cell_type": "code",
   "source": [
    "train_data = TensorDataset(train_inputs, train_masks, train_labels)\n",
    "train_dataloader = DataLoader(\n",
    "    train_data,\n",
    "    sampler=RandomSampler(train_data),\n",
    "    batch_size=32\n",
    ")"
   ],
   "metadata": {
    "execution": {
     "iopub.status.busy": "2023-02-08T10:17:16.810508Z",
     "iopub.execute_input": "2023-02-08T10:17:16.812819Z",
     "iopub.status.idle": "2023-02-08T10:17:16.819645Z",
     "shell.execute_reply.started": "2023-02-08T10:17:16.812782Z",
     "shell.execute_reply": "2023-02-08T10:17:16.818603Z"
    },
    "trusted": true
   },
   "execution_count": 12,
   "outputs": []
  },
  {
   "cell_type": "code",
   "source": [
    "validation_data = TensorDataset(validation_inputs, validation_masks, validation_labels)\n",
    "validation_dataloader = DataLoader(\n",
    "    validation_data,\n",
    "    sampler=SequentialSampler(validation_data),\n",
    "    batch_size=32\n",
    ")"
   ],
   "metadata": {
    "execution": {
     "iopub.status.busy": "2023-02-08T10:17:16.824768Z",
     "iopub.execute_input": "2023-02-08T10:17:16.826461Z",
     "iopub.status.idle": "2023-02-08T10:17:16.834441Z",
     "shell.execute_reply.started": "2023-02-08T10:17:16.826426Z",
     "shell.execute_reply": "2023-02-08T10:17:16.833574Z"
    },
    "trusted": true
   },
   "execution_count": 13,
   "outputs": []
  },
  {
   "cell_type": "markdown",
   "source": [
    "## Обучение и валидация модели"
   ],
   "metadata": {}
  },
  {
   "cell_type": "markdown",
   "source": [
    "Загрузим предобученный BertForSequenceClassification:"
   ],
   "metadata": {
    "execution": {
     "iopub.execute_input": "2023-02-05T15:53:15.705679Z",
     "iopub.status.busy": "2023-02-05T15:53:15.705415Z",
     "iopub.status.idle": "2023-02-05T15:53:15.713938Z",
     "shell.execute_reply": "2023-02-05T15:53:15.712919Z",
     "shell.execute_reply.started": "2023-02-05T15:53:15.705655Z"
    }
   }
  },
  {
   "cell_type": "code",
   "source": [
    "model = BertForSequenceClassification.from_pretrained(\"bert-base-uncased\", num_labels=2)\n",
    "model.cuda();"
   ],
   "metadata": {
    "execution": {
     "iopub.status.busy": "2023-02-08T10:17:16.837169Z",
     "iopub.execute_input": "2023-02-08T10:17:16.838424Z",
     "iopub.status.idle": "2023-02-08T10:17:38.437241Z",
     "shell.execute_reply.started": "2023-02-08T10:17:16.838389Z",
     "shell.execute_reply": "2023-02-08T10:17:38.436076Z"
    },
    "trusted": true
   },
   "execution_count": 14,
   "outputs": [
    {
     "name": "stderr",
     "text": "100%|██████████| 433/433 [00:00<00:00, 257315.62B/s]\n100%|██████████| 440473133/440473133 [00:11<00:00, 37686981.88B/s]\n",
     "output_type": "stream"
    }
   ]
  },
  {
   "cell_type": "markdown",
   "source": [
    "В качестве оптимизатора будем использовать AdamW со следующими параметрами:"
   ],
   "metadata": {}
  },
  {
   "cell_type": "code",
   "source": [
    "param_optimizer = list(model.named_parameters())\n",
    "no_decay = ['bias', 'gamma', 'beta']\n",
    "optimizer_grouped_parameters = [\n",
    "    {'params': [p for n, p in param_optimizer if not any(nd in n for nd in no_decay)],\n",
    "     'weight_decay_rate': 0.01},\n",
    "    {'params': [p for n, p in param_optimizer if any(nd in n for nd in no_decay)],\n",
    "     'weight_decay_rate': 0.0}\n",
    "]\n",
    "\n",
    "optimizer = AdamW(optimizer_grouped_parameters, lr=2e-5)"
   ],
   "metadata": {
    "execution": {
     "iopub.status.busy": "2023-02-08T10:17:38.438758Z",
     "iopub.execute_input": "2023-02-08T10:17:38.439222Z",
     "iopub.status.idle": "2023-02-08T10:17:38.448556Z",
     "shell.execute_reply.started": "2023-02-08T10:17:38.439183Z",
     "shell.execute_reply": "2023-02-08T10:17:38.447559Z"
    },
    "trusted": true
   },
   "execution_count": 15,
   "outputs": []
  },
  {
   "cell_type": "markdown",
   "source": [
    "Выполним дообучение модели:"
   ],
   "metadata": {}
  },
  {
   "cell_type": "code",
   "source": [
    "train_loss_set = []\n",
    "train_loss = 0\n",
    "\n",
    "model.train()\n",
    "\n",
    "for step, batch in enumerate(train_dataloader):\n",
    "    batch = tuple(t.to(device) for t in batch)\n",
    "    \n",
    "    b_input_ids, b_input_mask, b_labels = batch\n",
    "\n",
    "    optimizer.zero_grad()\n",
    "    \n",
    "    loss = model(b_input_ids, token_type_ids=None, attention_mask=b_input_mask, labels=b_labels)\n",
    "    train_loss_set.append(loss[0].item())  \n",
    "    \n",
    "    loss[0].backward()\n",
    " \n",
    "    optimizer.step()\n",
    "\n",
    "    train_loss += loss[0].item()\n",
    "    \n",
    "print(f\"Loss на обучающей выборке: {train_loss / len(train_dataloader)}\")\n",
    "\n",
    "model.eval()\n",
    "\n",
    "valid_preds, valid_labels = [], []\n",
    "\n",
    "for batch in validation_dataloader:   \n",
    "    batch = tuple(t.to(device) for t in batch)\n",
    "    \n",
    "    b_input_ids, b_input_mask, b_labels = batch\n",
    "    \n",
    "    with torch.no_grad():\n",
    "        logits = model(b_input_ids, token_type_ids=None, attention_mask=b_input_mask)\n",
    "\n",
    "    logits = logits[0].detach().cpu().numpy()\n",
    "    label_ids = b_labels.to('cpu').numpy()\n",
    "    \n",
    "    batch_preds = np.argmax(logits, axis=1)\n",
    "    batch_labels = np.concatenate(label_ids)     \n",
    "    valid_preds.extend(batch_preds)\n",
    "    valid_labels.extend(batch_labels)\n",
    "\n",
    "print(f\"Процент правильных предсказаний на валидационной выборке: {accuracy_score(valid_labels, valid_preds) * 100}%\")"
   ],
   "metadata": {
    "execution": {
     "iopub.status.busy": "2023-02-08T10:17:38.449996Z",
     "iopub.execute_input": "2023-02-08T10:17:38.450609Z",
     "iopub.status.idle": "2023-02-08T10:26:04.468323Z",
     "shell.execute_reply.started": "2023-02-08T10:17:38.450568Z",
     "shell.execute_reply": "2023-02-08T10:26:04.467163Z"
    },
    "trusted": true
   },
   "execution_count": 16,
   "outputs": [
    {
     "name": "stderr",
     "text": "/opt/conda/lib/python3.7/site-packages/pytorch_transformers/optimization.py:166: UserWarning: This overload of add_ is deprecated:\n\tadd_(Number alpha, Tensor other)\nConsider using one of the following signatures instead:\n\tadd_(Tensor other, *, Number alpha) (Triggered internally at  /usr/local/src/pytorch/torch/csrc/utils/python_arg_parser.cpp:1055.)\n  exp_avg.mul_(beta1).add_(1.0 - beta1, grad)\n",
     "output_type": "stream"
    },
    {
     "name": "stdout",
     "text": "Loss на обучающей выборке: 0.32570635564814365\nПроцент правильных предсказаний на валидационной выборке: 90.14285714285715%\n",
     "output_type": "stream"
    }
   ]
  },
  {
   "cell_type": "markdown",
   "source": [
    "## Оценка качества модели"
   ],
   "metadata": {}
  },
  {
   "cell_type": "markdown",
   "source": [
    "Оценим качество модели на отложенной выборке:"
   ],
   "metadata": {}
  },
  {
   "cell_type": "code",
   "source": [
    "tokenized_texts = [tokenizer.tokenize(sent) for sent in test_sentences]\n",
    "input_ids = [tokenizer.convert_tokens_to_ids(x) for x in tokenized_texts]\n",
    "\n",
    "input_ids = pad_sequences(\n",
    "    input_ids,\n",
    "    maxlen=150,\n",
    "    truncating=\"post\",\n",
    "    padding=\"post\"\n",
    ")\n",
    "\n",
    "attention_masks = [[float(i>0) for i in seq] for seq in input_ids]"
   ],
   "metadata": {
    "execution": {
     "iopub.status.busy": "2023-02-08T10:26:04.469842Z",
     "iopub.execute_input": "2023-02-08T10:26:04.470289Z",
     "iopub.status.idle": "2023-02-08T10:27:24.493954Z",
     "shell.execute_reply.started": "2023-02-08T10:26:04.470250Z",
     "shell.execute_reply": "2023-02-08T10:27:24.492958Z"
    },
    "trusted": true
   },
   "execution_count": 17,
   "outputs": []
  },
  {
   "cell_type": "code",
   "source": [
    "prediction_inputs = torch.tensor(input_ids)\n",
    "prediction_masks = torch.tensor(attention_masks)\n",
    "prediction_labels = torch.tensor(test_gt)\n",
    "\n",
    "prediction_data = TensorDataset(\n",
    "    prediction_inputs,\n",
    "    prediction_masks,\n",
    "    prediction_labels\n",
    ")\n",
    "\n",
    "prediction_dataloader = DataLoader(\n",
    "    prediction_data, \n",
    "    sampler=SequentialSampler(prediction_data),\n",
    "    batch_size=32\n",
    ")"
   ],
   "metadata": {
    "execution": {
     "iopub.status.busy": "2023-02-08T10:27:24.495651Z",
     "iopub.execute_input": "2023-02-08T10:27:24.496031Z",
     "iopub.status.idle": "2023-02-08T10:27:24.599286Z",
     "shell.execute_reply.started": "2023-02-08T10:27:24.495995Z",
     "shell.execute_reply": "2023-02-08T10:27:24.598308Z"
    },
    "trusted": true
   },
   "execution_count": 18,
   "outputs": []
  },
  {
   "cell_type": "code",
   "source": [
    "model.eval()\n",
    "test_preds, test_labels = [], []\n",
    "\n",
    "for batch in prediction_dataloader:\n",
    "    batch = tuple(t.to(device) for t in batch)\n",
    "    \n",
    "    b_input_ids, b_input_mask, b_labels = batch\n",
    "    \n",
    "    with torch.no_grad():\n",
    "        logits = model(b_input_ids, token_type_ids=None, attention_mask=b_input_mask)\n",
    "\n",
    "    logits = logits[0].detach().cpu().numpy()\n",
    "    label_ids = b_labels.to('cpu').numpy()\n",
    "\n",
    "    batch_preds = np.argmax(logits, axis=1)\n",
    "    batch_labels = np.concatenate(label_ids)  \n",
    "    test_preds.extend(batch_preds)\n",
    "    test_labels.extend(batch_labels)"
   ],
   "metadata": {
    "execution": {
     "iopub.status.busy": "2023-02-08T10:27:24.600868Z",
     "iopub.execute_input": "2023-02-08T10:27:24.601280Z",
     "iopub.status.idle": "2023-02-08T10:28:39.852145Z",
     "shell.execute_reply.started": "2023-02-08T10:27:24.601240Z",
     "shell.execute_reply": "2023-02-08T10:28:39.851142Z"
    },
    "trusted": true
   },
   "execution_count": 19,
   "outputs": []
  },
  {
   "cell_type": "code",
   "source": [
    "acc_score = accuracy_score(test_labels, test_preds)\n",
    "print(f'Процент правильных предсказаний на отложенной выборке составил: {acc_score*100}%')"
   ],
   "metadata": {
    "execution": {
     "iopub.status.busy": "2023-02-08T10:28:39.853861Z",
     "iopub.execute_input": "2023-02-08T10:28:39.854244Z",
     "iopub.status.idle": "2023-02-08T10:28:39.868567Z",
     "shell.execute_reply.started": "2023-02-08T10:28:39.854198Z",
     "shell.execute_reply": "2023-02-08T10:28:39.867014Z"
    },
    "trusted": true
   },
   "execution_count": 20,
   "outputs": [
    {
     "name": "stdout",
     "text": "Процент правильных предсказаний на отложенной выборке составил: 89.55333333333333%\n",
     "output_type": "stream"
    }
   ]
  }
 ]
}
